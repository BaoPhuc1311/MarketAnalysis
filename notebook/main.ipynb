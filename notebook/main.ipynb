{
 "cells": [
  {
   "cell_type": "markdown",
   "id": "1034d3a0",
   "metadata": {},
   "source": [
    "# **Import Libraries**"
   ]
  },
  {
   "cell_type": "code",
   "execution_count": 18,
   "id": "4d3ab0be",
   "metadata": {},
   "outputs": [],
   "source": [
    "import pandas as pd\n",
    "import numpy as np\n",
    "import matplotlib.pyplot as plt\n",
    "import seaborn as sns"
   ]
  },
  {
   "cell_type": "markdown",
   "id": "e4a425fa",
   "metadata": {},
   "source": [
    "# **Load and Inspect Dataset**"
   ]
  },
  {
   "cell_type": "code",
   "execution_count": 19,
   "id": "0f033c79",
   "metadata": {},
   "outputs": [
    {
     "data": {
      "application/vnd.microsoft.datawrangler.viewer.v0+json": {
       "columns": [
        {
         "name": "index",
         "rawType": "int64",
         "type": "integer"
        },
        {
         "name": "Job_Title",
         "rawType": "object",
         "type": "string"
        },
        {
         "name": "Industry",
         "rawType": "object",
         "type": "string"
        },
        {
         "name": "Company_Size",
         "rawType": "object",
         "type": "string"
        },
        {
         "name": "Location",
         "rawType": "object",
         "type": "string"
        },
        {
         "name": "AI_Adoption_Level",
         "rawType": "object",
         "type": "string"
        },
        {
         "name": "Automation_Risk",
         "rawType": "object",
         "type": "string"
        },
        {
         "name": "Required_Skills",
         "rawType": "object",
         "type": "string"
        },
        {
         "name": "Salary_USD",
         "rawType": "float64",
         "type": "float"
        },
        {
         "name": "Remote_Friendly",
         "rawType": "object",
         "type": "string"
        },
        {
         "name": "Job_Growth_Projection",
         "rawType": "object",
         "type": "string"
        }
       ],
       "conversionMethod": "pd.DataFrame",
       "ref": "32c2c54f-9923-4fe8-a06e-afd75bbd6c40",
       "rows": [
        [
         "0",
         "Cybersecurity Analyst",
         "Entertainment",
         "Small",
         "Dubai",
         "Medium",
         "High",
         "UX/UI Design",
         "111392.16524315962",
         "Yes",
         "Growth"
        ],
        [
         "1",
         "Marketing Specialist",
         "Technology",
         "Large",
         "Singapore",
         "Medium",
         "High",
         "Marketing",
         "93792.56246610906",
         "No",
         "Decline"
        ],
        [
         "2",
         "AI Researcher",
         "Technology",
         "Large",
         "Singapore",
         "Medium",
         "High",
         "UX/UI Design",
         "107170.26306894996",
         "Yes",
         "Growth"
        ],
        [
         "3",
         "Sales Manager",
         "Retail",
         "Small",
         "Berlin",
         "Low",
         "High",
         "Project Management",
         "93027.95375786416",
         "No",
         "Growth"
        ],
        [
         "4",
         "Cybersecurity Analyst",
         "Entertainment",
         "Small",
         "Tokyo",
         "Low",
         "Low",
         "JavaScript",
         "87752.92217059238",
         "Yes",
         "Decline"
        ]
       ],
       "shape": {
        "columns": 10,
        "rows": 5
       }
      },
      "text/html": [
       "<div>\n",
       "<style scoped>\n",
       "    .dataframe tbody tr th:only-of-type {\n",
       "        vertical-align: middle;\n",
       "    }\n",
       "\n",
       "    .dataframe tbody tr th {\n",
       "        vertical-align: top;\n",
       "    }\n",
       "\n",
       "    .dataframe thead th {\n",
       "        text-align: right;\n",
       "    }\n",
       "</style>\n",
       "<table border=\"1\" class=\"dataframe\">\n",
       "  <thead>\n",
       "    <tr style=\"text-align: right;\">\n",
       "      <th></th>\n",
       "      <th>Job_Title</th>\n",
       "      <th>Industry</th>\n",
       "      <th>Company_Size</th>\n",
       "      <th>Location</th>\n",
       "      <th>AI_Adoption_Level</th>\n",
       "      <th>Automation_Risk</th>\n",
       "      <th>Required_Skills</th>\n",
       "      <th>Salary_USD</th>\n",
       "      <th>Remote_Friendly</th>\n",
       "      <th>Job_Growth_Projection</th>\n",
       "    </tr>\n",
       "  </thead>\n",
       "  <tbody>\n",
       "    <tr>\n",
       "      <th>0</th>\n",
       "      <td>Cybersecurity Analyst</td>\n",
       "      <td>Entertainment</td>\n",
       "      <td>Small</td>\n",
       "      <td>Dubai</td>\n",
       "      <td>Medium</td>\n",
       "      <td>High</td>\n",
       "      <td>UX/UI Design</td>\n",
       "      <td>111392.165243</td>\n",
       "      <td>Yes</td>\n",
       "      <td>Growth</td>\n",
       "    </tr>\n",
       "    <tr>\n",
       "      <th>1</th>\n",
       "      <td>Marketing Specialist</td>\n",
       "      <td>Technology</td>\n",
       "      <td>Large</td>\n",
       "      <td>Singapore</td>\n",
       "      <td>Medium</td>\n",
       "      <td>High</td>\n",
       "      <td>Marketing</td>\n",
       "      <td>93792.562466</td>\n",
       "      <td>No</td>\n",
       "      <td>Decline</td>\n",
       "    </tr>\n",
       "    <tr>\n",
       "      <th>2</th>\n",
       "      <td>AI Researcher</td>\n",
       "      <td>Technology</td>\n",
       "      <td>Large</td>\n",
       "      <td>Singapore</td>\n",
       "      <td>Medium</td>\n",
       "      <td>High</td>\n",
       "      <td>UX/UI Design</td>\n",
       "      <td>107170.263069</td>\n",
       "      <td>Yes</td>\n",
       "      <td>Growth</td>\n",
       "    </tr>\n",
       "    <tr>\n",
       "      <th>3</th>\n",
       "      <td>Sales Manager</td>\n",
       "      <td>Retail</td>\n",
       "      <td>Small</td>\n",
       "      <td>Berlin</td>\n",
       "      <td>Low</td>\n",
       "      <td>High</td>\n",
       "      <td>Project Management</td>\n",
       "      <td>93027.953758</td>\n",
       "      <td>No</td>\n",
       "      <td>Growth</td>\n",
       "    </tr>\n",
       "    <tr>\n",
       "      <th>4</th>\n",
       "      <td>Cybersecurity Analyst</td>\n",
       "      <td>Entertainment</td>\n",
       "      <td>Small</td>\n",
       "      <td>Tokyo</td>\n",
       "      <td>Low</td>\n",
       "      <td>Low</td>\n",
       "      <td>JavaScript</td>\n",
       "      <td>87752.922171</td>\n",
       "      <td>Yes</td>\n",
       "      <td>Decline</td>\n",
       "    </tr>\n",
       "  </tbody>\n",
       "</table>\n",
       "</div>"
      ],
      "text/plain": [
       "               Job_Title       Industry Company_Size   Location  \\\n",
       "0  Cybersecurity Analyst  Entertainment        Small      Dubai   \n",
       "1   Marketing Specialist     Technology        Large  Singapore   \n",
       "2          AI Researcher     Technology        Large  Singapore   \n",
       "3          Sales Manager         Retail        Small     Berlin   \n",
       "4  Cybersecurity Analyst  Entertainment        Small      Tokyo   \n",
       "\n",
       "  AI_Adoption_Level Automation_Risk     Required_Skills     Salary_USD  \\\n",
       "0            Medium            High        UX/UI Design  111392.165243   \n",
       "1            Medium            High           Marketing   93792.562466   \n",
       "2            Medium            High        UX/UI Design  107170.263069   \n",
       "3               Low            High  Project Management   93027.953758   \n",
       "4               Low             Low          JavaScript   87752.922171   \n",
       "\n",
       "  Remote_Friendly Job_Growth_Projection  \n",
       "0             Yes                Growth  \n",
       "1              No               Decline  \n",
       "2             Yes                Growth  \n",
       "3              No                Growth  \n",
       "4             Yes               Decline  "
      ]
     },
     "execution_count": 19,
     "metadata": {},
     "output_type": "execute_result"
    }
   ],
   "source": [
    "df = pd.read_csv(\"../data/ai_job_market_insights.csv\")\n",
    "\n",
    "df.head()"
   ]
  },
  {
   "cell_type": "markdown",
   "id": "376d20e3",
   "metadata": {},
   "source": [
    "# **Dataset Information**"
   ]
  },
  {
   "cell_type": "code",
   "execution_count": 20,
   "id": "6ba9e762",
   "metadata": {},
   "outputs": [
    {
     "name": "stdout",
     "output_type": "stream",
     "text": [
      "<class 'pandas.core.frame.DataFrame'>\n",
      "RangeIndex: 500 entries, 0 to 499\n",
      "Data columns (total 10 columns):\n",
      " #   Column                 Non-Null Count  Dtype  \n",
      "---  ------                 --------------  -----  \n",
      " 0   Job_Title              500 non-null    object \n",
      " 1   Industry               500 non-null    object \n",
      " 2   Company_Size           500 non-null    object \n",
      " 3   Location               500 non-null    object \n",
      " 4   AI_Adoption_Level      500 non-null    object \n",
      " 5   Automation_Risk        500 non-null    object \n",
      " 6   Required_Skills        500 non-null    object \n",
      " 7   Salary_USD             500 non-null    float64\n",
      " 8   Remote_Friendly        500 non-null    object \n",
      " 9   Job_Growth_Projection  500 non-null    object \n",
      "dtypes: float64(1), object(9)\n",
      "memory usage: 39.2+ KB\n",
      "Null Rows:\n",
      "Job_Title                0\n",
      "Industry                 0\n",
      "Company_Size             0\n",
      "Location                 0\n",
      "AI_Adoption_Level        0\n",
      "Automation_Risk          0\n",
      "Required_Skills          0\n",
      "Salary_USD               0\n",
      "Remote_Friendly          0\n",
      "Job_Growth_Projection    0\n",
      "dtype: int64\n",
      "Duplicated Rows: 0\n",
      "Describe:\n",
      "          Salary_USD\n",
      "count     500.000000\n",
      "mean    91222.390974\n",
      "std     20504.291453\n",
      "min     31969.526346\n",
      "25%     78511.514863\n",
      "50%     91998.195286\n",
      "75%    103971.282092\n",
      "max    155209.821614\n",
      "Shape: (500, 10)\n"
     ]
    }
   ],
   "source": [
    "df.info()\n",
    "\n",
    "print(f\"Null Rows:\\n{df.isnull().sum()}\")\n",
    "\n",
    "print(f\"Duplicated Rows: {df.duplicated().sum()}\")\n",
    "\n",
    "print(f\"Describe:\\n{df.describe()}\")\n",
    "\n",
    "print(f\"Shape: {df.shape}\")"
   ]
  },
  {
   "cell_type": "code",
   "execution_count": null,
   "id": "f668de81",
   "metadata": {},
   "outputs": [
    {
     "name": "stdout",
     "output_type": "stream",
     "text": [
      "Number of Unique: 10\n",
      "Number of Unique: 10\n",
      "Number of Unique: 3\n",
      "Number of Unique: 10\n",
      "Number of Unique: 3\n",
      "Number of Unique: 3\n",
      "Number of Unique: 10\n",
      "Number of Unique: 500\n",
      "Number of Unique: 2\n",
      "Number of Unique: 3\n"
     ]
    }
   ],
   "source": [
    "print(f\"Number of Unique: {df[\"Job_Title\"].nunique()}\")\n",
    "print(f\"Number of Unique: {df[\"Industry\"].nunique()}\")\n",
    "print(f\"Number of Unique: {df[\"Company_Size\"].nunique()}\")\n",
    "print(f\"Number of Unique: {df[\"Location\"].nunique()}\")\n",
    "print(f\"Number of Unique: {df[\"AI_Adoption_Level\"].nunique()}\")\n",
    "print(f\"Number of Unique: {df[\"Automation_Risk\"].nunique()}\")\n",
    "print(f\"Number of Unique: {df[\"Required_Skills\"].nunique()}\")\n",
    "print(f\"Number of Unique: {df[\"Salary_USD\"].nunique()}\")\n",
    "print(f\"Number of Unique: {df[\"Remote_Friendly\"].nunique()}\")\n",
    "print(f\"Number of Unique: {df[\"Job_Growth_Projection\"].nunique()}\")"
   ]
  }
 ],
 "metadata": {
  "kernelspec": {
   "display_name": "venv",
   "language": "python",
   "name": "python3"
  },
  "language_info": {
   "codemirror_mode": {
    "name": "ipython",
    "version": 3
   },
   "file_extension": ".py",
   "mimetype": "text/x-python",
   "name": "python",
   "nbconvert_exporter": "python",
   "pygments_lexer": "ipython3",
   "version": "3.12.5"
  }
 },
 "nbformat": 4,
 "nbformat_minor": 5
}
